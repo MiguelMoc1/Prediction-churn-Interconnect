{
 "cells": [
  {
   "cell_type": "markdown",
   "metadata": {},
   "source": [
    "# Informe de Solución\n",
    "\n",
    "## Introducción\n",
    "El proyecto tuvo como objetivo principal desarrollar un modelo de clasificación capaz de predecir la cancelación de clientes en la empresa Interconnect. Para ello, se realizaron diversas etapas de análisis y procesamiento de datos, así como la construcción, optimización y evaluación de modelos de aprendizaje automático. Este informe detalla el desarrollo del proyecto, los resultados obtenidos y las conclusiones derivadas.\n",
    "\n",
    "## Desarrollo del Proyecto\n",
    "\n",
    "### Preparación y Preprocesamiento de Datos\n",
    "La preparación de los datos fue una etapa clave para garantizar su calidad y consistencia. Se realizaron las siguientes tareas:\n",
    "- **Manejo de valores nulos:** Las columnas con valores faltantes, como `TotalCharges`, fueron imputadas utilizando la media, mientras que las variables categóricas como `InternetService` y `MultipleLines` se completaron con valores como \"No\".\n",
    "- **Codificación de variables categóricas:** Se utilizó `One-Hot Encoding` para transformar variables categóricas como `PaymentMethod` y `InternetService` en un formato compatible con los modelos de aprendizaje automático.\n",
    "- **Escalado de variables numéricas:** Se estandarizaron variables como `MonthlyCharges` y `TotalCharges` para mejorar el rendimiento de los modelos.\n",
    "- **Generación de nuevas características:** Se crearon variables como `HasInternet` y `HasPhone` para enriquecer el conjunto de datos.\n",
    "- **Manejo del desbalance:** Dado que la variable objetivo estaba desbalanceada (26% para la clase minoritaria), se utilizó la técnica de sobremuestreo para equilibrar las clases en el conjunto de entrenamiento.\n",
    "\n",
    "### Análisis Exploratorio de Datos (EDA)\n",
    "El EDA permitió identificar patrones y relaciones importantes entre las variables. Entre las observaciones más destacadas se encuentran:\n",
    "- Los clientes con cargos mensuales (`MonthlyCharges`) más altos tienen una mayor probabilidad de cancelar sus servicios.\n",
    "- Los clientes que utilizan fibra óptica (`Fiber optic`) tienen una proporción significativamente mayor de cancelaciones en comparación con otros servicios de internet.\n",
    "\n",
    "### Construcción y Evaluación de Modelos\n",
    "Se construyeron tres modelos principales:\n",
    "- **Regresión Logística:** Un modelo simple y eficiente para problemas de clasificación binaria.\n",
    "- **Árbol de Decisión:** Un modelo interpretable capaz de manejar relaciones no lineales.\n",
    "- **Bosque Aleatorio:** Un modelo robusto que combina múltiples árboles de decisión.\n",
    "\n",
    "Los modelos fueron evaluados utilizando las métricas AUC-ROC y F1-Score en los conjuntos de entrenamiento y prueba. Las métricas iniciales mostraron un rendimiento consistente para los modelos sin hiperparámetros, con el Bosque Aleatorio destacándose como el más sólido.\n",
    "\n",
    "### Optimización de Modelos\n",
    "Aunque se llevó a cabo la optimización de hiperparámetros utilizando `GridSearchCV`, los modelos ajustados no lograron mejorar significativamente el rendimiento en el conjunto de prueba. De hecho, en algunos casos, el desempeño se deterioró ligeramente. Por esta razón, se decidió mantener los modelos sin ajustes de hiperparámetros, ya que ofrecieron un mejor equilibrio entre simplicidad, eficiencia y calidad.\n",
    "\n",
    "### Selección del Modelo Final\n",
    "El **Bosque Aleatorio sin hiperparámetros ajustados** fue seleccionado como el modelo final por su rendimiento robusto y consistente. Las métricas del modelo final fueron:\n",
    "- **AUC-ROC:** 0.840\n",
    "- **F1-Score:** 0.633\n",
    "\n",
    "## Conclusiones y Recomendaciones\n",
    "\n",
    "### Conclusiones\n",
    "1. El manejo del desbalance de la variable objetivo fue clave para mejorar el desempeño de los modelos.\n",
    "2. Los modelos sin hiperparámetros ajustados lograron un mejor equilibrio entre entrenamiento y prueba, evitando el sobreajuste.\n",
    "3. El Bosque Aleatorio destacó como el modelo más robusto, proporcionando un excelente equilibrio entre sensibilidad y precisión.\n",
    "\n",
    "### Recomendaciones\n",
    "1. **Implementación del modelo:** El Bosque Aleatorio debe ser utilizado como la solución principal para predecir cancelaciones. \n",
    "2. **Análisis de características:** Utilizar la importancia de características del modelo para identificar los principales factores que contribuyen a la cancelación y tomar acciones proactivas.\n",
    "3. **Acciones de retención:** Basándose en las predicciones del modelo, la empresa puede diseñar campañas específicas para retener a clientes con alta probabilidad de cancelar.\n",
    "\n",
    "## Reflexión Final\n",
    "El proyecto demuestra cómo el análisis y modelado de datos pueden proporcionar insights valiosos para la toma de decisiones estratégicas. La implementación del modelo permitirá a Interconnect no solo reducir su tasa de cancelación, sino también mejorar la experiencia de sus clientes mediante estrategias personalizadas y basadas en datos.\n"
   ]
  }
 ],
 "metadata": {
  "kernelspec": {
   "display_name": "Python 3 (ipykernel)",
   "language": "python",
   "name": "python3"
  },
  "language_info": {
   "codemirror_mode": {
    "name": "ipython",
    "version": 3
   },
   "file_extension": ".py",
   "mimetype": "text/x-python",
   "name": "python",
   "nbconvert_exporter": "python",
   "pygments_lexer": "ipython3",
   "version": "3.9.19"
  },
  "toc": {
   "base_numbering": 1,
   "nav_menu": {},
   "number_sections": true,
   "sideBar": true,
   "skip_h1_title": true,
   "title_cell": "Table of Contents",
   "title_sidebar": "Contents",
   "toc_cell": false,
   "toc_position": {},
   "toc_section_display": true,
   "toc_window_display": false
  }
 },
 "nbformat": 4,
 "nbformat_minor": 2
}
