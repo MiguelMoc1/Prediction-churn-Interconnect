{
 "cells": [
  {
   "cell_type": "markdown",
   "metadata": {},
   "source": [
    "# Plan de trabajo\n",
    "\n",
    "El objetivo de este proyecto es predecir la tasa de cancelación de clientes (Churn) de la empresa de telecomunicaciones Interconnect. Utilizando información de contratos, datos personales, servicios de internet y teléfono, construiremos un modelo de aprendizaje automático que permitirá identificar clientes propensos a cancelar su servicio. Esto ayudará a la empresa a retener clientes mediante ofertas personalizadas.\n",
    "\n",
    "Como primer paso, realizaremos un análisis exploratorio de datos (EDA) para entender mejor el contenido y la calidad de los datos, identificar posibles problemas, y guiar la construcción del modelo. Posteriormente, definiremos preguntas aclaratorias y un plan aproximado para resolver la tarea."
   ]
  },
  {
   "cell_type": "code",
   "execution_count": 4,
   "metadata": {},
   "outputs": [],
   "source": [
    "import pandas as pd"
   ]
  },
  {
   "cell_type": "code",
   "execution_count": 5,
   "metadata": {},
   "outputs": [],
   "source": [
    "contract = pd.read_csv('/datasets/final_provider/contract.csv')\n",
    "personal = pd.read_csv('/datasets/final_provider/personal.csv')\n",
    "internet = pd.read_csv('/datasets/final_provider/internet.csv')\n",
    "phone = pd.read_csv('/datasets/final_provider/phone.csv')"
   ]
  },
  {
   "cell_type": "code",
   "execution_count": 10,
   "metadata": {},
   "outputs": [
    {
     "name": "stdout",
     "output_type": "stream",
     "text": [
      "Primeras filas de 'contract':\n",
      "   customerID   BeginDate              EndDate            Type  \\\n",
      "0  7590-VHVEG  2020-01-01                   No  Month-to-month   \n",
      "1  5575-GNVDE  2017-04-01                   No        One year   \n",
      "2  3668-QPYBK  2019-10-01  2019-12-01 00:00:00  Month-to-month   \n",
      "3  7795-CFOCW  2016-05-01                   No        One year   \n",
      "4  9237-HQITU  2019-09-01  2019-11-01 00:00:00  Month-to-month   \n",
      "\n",
      "  PaperlessBilling              PaymentMethod  MonthlyCharges TotalCharges  \n",
      "0              Yes           Electronic check           29.85        29.85  \n",
      "1               No               Mailed check           56.95       1889.5  \n",
      "2              Yes               Mailed check           53.85       108.15  \n",
      "3               No  Bank transfer (automatic)           42.30      1840.75  \n",
      "4              Yes           Electronic check           70.70       151.65   \n",
      "\n"
     ]
    }
   ],
   "source": [
    "print(\"Primeras filas de 'contract':\")\n",
    "print(contract.head(), \"\\n\")"
   ]
  },
  {
   "cell_type": "code",
   "execution_count": 7,
   "metadata": {},
   "outputs": [
    {
     "name": "stdout",
     "output_type": "stream",
     "text": [
      "Primeras filas de 'personal':\n",
      "   customerID  gender  SeniorCitizen Partner Dependents\n",
      "0  7590-VHVEG  Female              0     Yes         No\n",
      "1  5575-GNVDE    Male              0      No         No\n",
      "2  3668-QPYBK    Male              0      No         No\n",
      "3  7795-CFOCW    Male              0      No         No\n",
      "4  9237-HQITU  Female              0      No         No \n",
      "\n"
     ]
    }
   ],
   "source": [
    "print(\"Primeras filas de 'personal':\")\n",
    "print(personal.head(), \"\\n\")"
   ]
  },
  {
   "cell_type": "code",
   "execution_count": 8,
   "metadata": {},
   "outputs": [
    {
     "name": "stdout",
     "output_type": "stream",
     "text": [
      "Primeras filas de 'internet':\n",
      "   customerID InternetService OnlineSecurity OnlineBackup DeviceProtection  \\\n",
      "0  7590-VHVEG             DSL             No          Yes               No   \n",
      "1  5575-GNVDE             DSL            Yes           No              Yes   \n",
      "2  3668-QPYBK             DSL            Yes          Yes               No   \n",
      "3  7795-CFOCW             DSL            Yes           No              Yes   \n",
      "4  9237-HQITU     Fiber optic             No           No               No   \n",
      "\n",
      "  TechSupport StreamingTV StreamingMovies  \n",
      "0          No          No              No  \n",
      "1          No          No              No  \n",
      "2          No          No              No  \n",
      "3         Yes          No              No  \n",
      "4          No          No              No   \n",
      "\n"
     ]
    }
   ],
   "source": [
    "print(\"Primeras filas de 'internet':\")\n",
    "print(internet.head(), \"\\n\")"
   ]
  },
  {
   "cell_type": "code",
   "execution_count": 9,
   "metadata": {},
   "outputs": [
    {
     "name": "stdout",
     "output_type": "stream",
     "text": [
      "Primeras filas de 'phone':\n",
      "   customerID MultipleLines\n",
      "0  5575-GNVDE            No\n",
      "1  3668-QPYBK            No\n",
      "2  9237-HQITU            No\n",
      "3  9305-CDSKC           Yes\n",
      "4  1452-KIOVK           Yes \n",
      "\n"
     ]
    }
   ],
   "source": [
    "print(\"Primeras filas de 'phone':\")\n",
    "print(phone.head(), \"\\n\")"
   ]
  },
  {
   "cell_type": "code",
   "execution_count": 11,
   "metadata": {},
   "outputs": [
    {
     "name": "stdout",
     "output_type": "stream",
     "text": [
      "Información de 'contract':\n",
      "<class 'pandas.core.frame.DataFrame'>\n",
      "RangeIndex: 7043 entries, 0 to 7042\n",
      "Data columns (total 8 columns):\n",
      " #   Column            Non-Null Count  Dtype  \n",
      "---  ------            --------------  -----  \n",
      " 0   customerID        7043 non-null   object \n",
      " 1   BeginDate         7043 non-null   object \n",
      " 2   EndDate           7043 non-null   object \n",
      " 3   Type              7043 non-null   object \n",
      " 4   PaperlessBilling  7043 non-null   object \n",
      " 5   PaymentMethod     7043 non-null   object \n",
      " 6   MonthlyCharges    7043 non-null   float64\n",
      " 7   TotalCharges      7043 non-null   object \n",
      "dtypes: float64(1), object(7)\n",
      "memory usage: 440.3+ KB\n",
      "None \n",
      "\n",
      "        customerID   BeginDate EndDate            Type PaperlessBilling  \\\n",
      "count         7043        7043    7043            7043             7043   \n",
      "unique        7043          77       5               3                2   \n",
      "top     6432-TWQLB  2014-02-01      No  Month-to-month              Yes   \n",
      "freq             1         366    5174            3875             4171   \n",
      "mean           NaN         NaN     NaN             NaN              NaN   \n",
      "std            NaN         NaN     NaN             NaN              NaN   \n",
      "min            NaN         NaN     NaN             NaN              NaN   \n",
      "25%            NaN         NaN     NaN             NaN              NaN   \n",
      "50%            NaN         NaN     NaN             NaN              NaN   \n",
      "75%            NaN         NaN     NaN             NaN              NaN   \n",
      "max            NaN         NaN     NaN             NaN              NaN   \n",
      "\n",
      "           PaymentMethod  MonthlyCharges TotalCharges  \n",
      "count               7043     7043.000000         7043  \n",
      "unique                 4             NaN         6531  \n",
      "top     Electronic check             NaN         20.2  \n",
      "freq                2365             NaN           11  \n",
      "mean                 NaN       64.761692          NaN  \n",
      "std                  NaN       30.090047          NaN  \n",
      "min                  NaN       18.250000          NaN  \n",
      "25%                  NaN       35.500000          NaN  \n",
      "50%                  NaN       70.350000          NaN  \n",
      "75%                  NaN       89.850000          NaN  \n",
      "max                  NaN      118.750000          NaN   \n",
      "\n"
     ]
    }
   ],
   "source": [
    "print(\"Información de 'contract':\")\n",
    "print(contract.info(), \"\\n\")\n",
    "print(contract.describe(include='all'), \"\\n\")"
   ]
  },
  {
   "cell_type": "code",
   "execution_count": 12,
   "metadata": {},
   "outputs": [
    {
     "name": "stdout",
     "output_type": "stream",
     "text": [
      "Información de 'personal':\n",
      "<class 'pandas.core.frame.DataFrame'>\n",
      "RangeIndex: 7043 entries, 0 to 7042\n",
      "Data columns (total 5 columns):\n",
      " #   Column         Non-Null Count  Dtype \n",
      "---  ------         --------------  ----- \n",
      " 0   customerID     7043 non-null   object\n",
      " 1   gender         7043 non-null   object\n",
      " 2   SeniorCitizen  7043 non-null   int64 \n",
      " 3   Partner        7043 non-null   object\n",
      " 4   Dependents     7043 non-null   object\n",
      "dtypes: int64(1), object(4)\n",
      "memory usage: 275.2+ KB\n",
      "None \n",
      "\n",
      "        customerID gender  SeniorCitizen Partner Dependents\n",
      "count         7043   7043    7043.000000    7043       7043\n",
      "unique        7043      2            NaN       2          2\n",
      "top     6432-TWQLB   Male            NaN      No         No\n",
      "freq             1   3555            NaN    3641       4933\n",
      "mean           NaN    NaN       0.162147     NaN        NaN\n",
      "std            NaN    NaN       0.368612     NaN        NaN\n",
      "min            NaN    NaN       0.000000     NaN        NaN\n",
      "25%            NaN    NaN       0.000000     NaN        NaN\n",
      "50%            NaN    NaN       0.000000     NaN        NaN\n",
      "75%            NaN    NaN       0.000000     NaN        NaN\n",
      "max            NaN    NaN       1.000000     NaN        NaN \n",
      "\n"
     ]
    }
   ],
   "source": [
    "print(\"Información de 'personal':\")\n",
    "print(personal.info(), \"\\n\")\n",
    "print(personal.describe(include='all'), \"\\n\")"
   ]
  },
  {
   "cell_type": "code",
   "execution_count": 13,
   "metadata": {},
   "outputs": [
    {
     "name": "stdout",
     "output_type": "stream",
     "text": [
      "Información de 'internet':\n",
      "<class 'pandas.core.frame.DataFrame'>\n",
      "RangeIndex: 5517 entries, 0 to 5516\n",
      "Data columns (total 8 columns):\n",
      " #   Column            Non-Null Count  Dtype \n",
      "---  ------            --------------  ----- \n",
      " 0   customerID        5517 non-null   object\n",
      " 1   InternetService   5517 non-null   object\n",
      " 2   OnlineSecurity    5517 non-null   object\n",
      " 3   OnlineBackup      5517 non-null   object\n",
      " 4   DeviceProtection  5517 non-null   object\n",
      " 5   TechSupport       5517 non-null   object\n",
      " 6   StreamingTV       5517 non-null   object\n",
      " 7   StreamingMovies   5517 non-null   object\n",
      "dtypes: object(8)\n",
      "memory usage: 344.9+ KB\n",
      "None \n",
      "\n",
      "        customerID InternetService OnlineSecurity OnlineBackup  \\\n",
      "count         5517            5517           5517         5517   \n",
      "unique        5517               2              2            2   \n",
      "top     7180-PISOG     Fiber optic             No           No   \n",
      "freq             1            3096           3498         3088   \n",
      "\n",
      "       DeviceProtection TechSupport StreamingTV StreamingMovies  \n",
      "count              5517        5517        5517            5517  \n",
      "unique                2           2           2               2  \n",
      "top                  No          No          No              No  \n",
      "freq               3095        3473        2810            2785   \n",
      "\n"
     ]
    }
   ],
   "source": [
    "print(\"Información de 'internet':\")\n",
    "print(internet.info(), \"\\n\")\n",
    "print(internet.describe(include='all'), \"\\n\")"
   ]
  },
  {
   "cell_type": "code",
   "execution_count": 14,
   "metadata": {},
   "outputs": [
    {
     "name": "stdout",
     "output_type": "stream",
     "text": [
      "Información de 'phone':\n",
      "<class 'pandas.core.frame.DataFrame'>\n",
      "RangeIndex: 6361 entries, 0 to 6360\n",
      "Data columns (total 2 columns):\n",
      " #   Column         Non-Null Count  Dtype \n",
      "---  ------         --------------  ----- \n",
      " 0   customerID     6361 non-null   object\n",
      " 1   MultipleLines  6361 non-null   object\n",
      "dtypes: object(2)\n",
      "memory usage: 99.5+ KB\n",
      "None \n",
      "\n",
      "        customerID MultipleLines\n",
      "count         6361          6361\n",
      "unique        6361             2\n",
      "top     6432-TWQLB            No\n",
      "freq             1          3390 \n",
      "\n"
     ]
    }
   ],
   "source": [
    "print(\"Información de 'phone':\")\n",
    "print(phone.info(), \"\\n\")\n",
    "print(phone.describe(include='all'), \"\\n\")"
   ]
  },
  {
   "cell_type": "code",
   "execution_count": 15,
   "metadata": {},
   "outputs": [
    {
     "name": "stdout",
     "output_type": "stream",
     "text": [
      "Valores nulos en 'contract':\n",
      "customerID          0\n",
      "BeginDate           0\n",
      "EndDate             0\n",
      "Type                0\n",
      "PaperlessBilling    0\n",
      "PaymentMethod       0\n",
      "MonthlyCharges      0\n",
      "TotalCharges        0\n",
      "dtype: int64 \n",
      "\n"
     ]
    }
   ],
   "source": [
    "print(\"Valores nulos en 'contract':\")\n",
    "print(contract.isnull().sum(), \"\\n\")"
   ]
  },
  {
   "cell_type": "code",
   "execution_count": 16,
   "metadata": {},
   "outputs": [
    {
     "name": "stdout",
     "output_type": "stream",
     "text": [
      "Valores nulos en 'personal':\n",
      "customerID       0\n",
      "gender           0\n",
      "SeniorCitizen    0\n",
      "Partner          0\n",
      "Dependents       0\n",
      "dtype: int64 \n",
      "\n"
     ]
    }
   ],
   "source": [
    "print(\"Valores nulos en 'personal':\")\n",
    "print(personal.isnull().sum(), \"\\n\")"
   ]
  },
  {
   "cell_type": "code",
   "execution_count": 17,
   "metadata": {},
   "outputs": [
    {
     "name": "stdout",
     "output_type": "stream",
     "text": [
      "Valores nulos en 'internet':\n",
      "customerID          0\n",
      "InternetService     0\n",
      "OnlineSecurity      0\n",
      "OnlineBackup        0\n",
      "DeviceProtection    0\n",
      "TechSupport         0\n",
      "StreamingTV         0\n",
      "StreamingMovies     0\n",
      "dtype: int64 \n",
      "\n"
     ]
    }
   ],
   "source": [
    "print(\"Valores nulos en 'internet':\")\n",
    "print(internet.isnull().sum(), \"\\n\")"
   ]
  },
  {
   "cell_type": "code",
   "execution_count": 18,
   "metadata": {},
   "outputs": [
    {
     "name": "stdout",
     "output_type": "stream",
     "text": [
      "Valores nulos en 'phone':\n",
      "customerID       0\n",
      "MultipleLines    0\n",
      "dtype: int64 \n",
      "\n"
     ]
    }
   ],
   "source": [
    "print(\"Valores nulos en 'phone':\")\n",
    "print(phone.isnull().sum(), \"\\n\")"
   ]
  },
  {
   "cell_type": "markdown",
   "metadata": {},
   "source": [
    "### **Lista de preguntas aclaratorias**\n",
    "\n",
    "1. **Sobre los clientes sin datos en ciertas tablas:**\n",
    "   - En las tablas `internet` y `phone`, hay menos filas que en las tablas `contract` y `personal`. ¿Es seguro asumir que algunos clientes no utilizan estos servicios?\n",
    "   - ¿Qué deberíamos hacer con los clientes que no tienen datos en `internet` o `phone`? ¿Deberían eliminarse ?\n",
    "\n",
    "2. **Sobre los valores categóricos:**\n",
    "   - Las columnas como `PaymentMethod`, `InternetService` y `MultipleLines` tienen valores categóricos. ¿Deberíamos codificarlos como variables dummies antes del entrenamiento del modelo?\n",
    "   - ¿Existen valores desconocidos o inconsistentes en estas columnas que deban ser verificados manualmente?\n",
    "\n",
    "3. **Sobre las métricas del cliente:**\n",
    "   - ¿Cómo debemos manejar los clientes que tienen contratos de corta duración pero cargos elevados? ¿Son anomalías o datos válidos?\n",
    "   - ¿Hay clientes con múltiples contratos (`customerID` duplicados)? Si es así, ¿cómo deberíamos manejarlos?\n"
   ]
  },
  {
   "cell_type": "markdown",
   "metadata": {},
   "source": [
    "### **Plan aproximado para resolver la tarea**\n",
    "\n",
    "1. **Análisis exploratorio de datos (EDA):**  \n",
    "   - Revisar las distribuciones de las variables numéricas como `MonthlyCharges` y `TotalCharges` para identificar valores atípicos.  \n",
    "   - Verificar los valores únicos en las columnas categóricas como `PaymentMethod`, `InternetService`, y `MultipleLines` para garantizar la consistencia.  \n",
    "   - Analizar las relaciones entre las variables y la característica objetivo (`EndDate`) para identificar patrones útiles.\n",
    "\n",
    "2. **Preparación de datos:**  \n",
    "   - Codificar las columnas categóricas en formato numérico (dummies o label encoding) para facilitar el entrenamiento del modelo.  \n",
    "   - Crear nuevas características, como una columna binaria que indique si un cliente tiene servicio de internet o teléfono.  \n",
    "   - Manejar valores atípicos eliminándolos o imputándolos, según corresponda.  \n",
    "   - Imputar los valores nulos de `TotalCharges` basándonos en patrones en los datos, como el promedio de los cargos mensuales por cliente.\n",
    "\n",
    "3. **División y preprocesamiento de los datos:**  \n",
    "   - Combinar las tablas `contract`, `personal`, `internet`, y `phone` utilizando la columna `customerID`.  \n",
    "   - Dividir los datos en conjuntos de entrenamiento y prueba, manteniendo la proporción original de clientes activos y cancelados.  \n",
    "   - Escalar las variables numéricas para mejorar el rendimiento del modelo.\n",
    "\n",
    "4. **Entrenamiento del modelo:**  \n",
    "   - Entrenar varios modelos de clasificación (e.g., árbol de decisión, bosque aleatorio, regresión logística) para predecir la tasa de cancelación (`EndDate`).  \n",
    "   - Evaluar el rendimiento de los modelos utilizando AUC-ROC como métrica principal y exactitud como métrica adicional.  \n",
    "   - Ajustar los hiperparámetros del modelo seleccionado para maximizar su desempeño.\n",
    "\n",
    "5. **Evaluación final y conclusiones:**  \n",
    "   - Analizar el rendimiento del modelo final en el conjunto de prueba y reportar las métricas clave.  \n",
    "   - Identificar los factores principales que contribuyen a la cancelación de contratos mediante la importancia de características.  \n",
    "   - Proporcionar recomendaciones a la empresa para abordar la retención de clientes con base en los resultados obtenidos.\n",
    "\n",
    "Este plan nos permitirá abordar de manera estructurada el objetivo del proyecto y cumplir con los criterios de evaluación establecidos.\n"
   ]
  }
 ],
 "metadata": {
  "ExecuteTimeLog": [
   {
    "duration": 2703,
    "start_time": "2024-11-19T22:55:56.672Z"
   },
   {
    "duration": 576,
    "start_time": "2024-11-19T22:56:18.514Z"
   },
   {
    "duration": 63,
    "start_time": "2024-11-19T22:56:43.654Z"
   },
   {
    "duration": 2,
    "start_time": "2024-11-19T23:08:32.241Z"
   },
   {
    "duration": 66,
    "start_time": "2024-11-19T23:08:40.307Z"
   },
   {
    "duration": 12,
    "start_time": "2024-11-19T23:08:51.389Z"
   },
   {
    "duration": 5,
    "start_time": "2024-11-19T23:09:12.914Z"
   },
   {
    "duration": 6,
    "start_time": "2024-11-19T23:09:19.024Z"
   },
   {
    "duration": 4,
    "start_time": "2024-11-19T23:09:23.594Z"
   },
   {
    "duration": 6,
    "start_time": "2024-11-19T23:09:37.387Z"
   },
   {
    "duration": 37,
    "start_time": "2024-11-19T23:09:48.009Z"
   },
   {
    "duration": 21,
    "start_time": "2024-11-19T23:09:57.048Z"
   },
   {
    "duration": 23,
    "start_time": "2024-11-19T23:10:04.665Z"
   },
   {
    "duration": 14,
    "start_time": "2024-11-19T23:10:11.881Z"
   },
   {
    "duration": 6,
    "start_time": "2024-11-19T23:10:21.299Z"
   },
   {
    "duration": 7,
    "start_time": "2024-11-19T23:10:27.849Z"
   },
   {
    "duration": 5,
    "start_time": "2024-11-19T23:10:36.239Z"
   },
   {
    "duration": 6,
    "start_time": "2024-11-19T23:10:46.995Z"
   }
  ],
  "kernelspec": {
   "display_name": "Python 3 (ipykernel)",
   "language": "python",
   "name": "python3"
  },
  "language_info": {
   "codemirror_mode": {
    "name": "ipython",
    "version": 3
   },
   "file_extension": ".py",
   "mimetype": "text/x-python",
   "name": "python",
   "nbconvert_exporter": "python",
   "pygments_lexer": "ipython3",
   "version": "3.9.19"
  },
  "toc": {
   "base_numbering": 1,
   "nav_menu": {},
   "number_sections": true,
   "sideBar": true,
   "skip_h1_title": true,
   "title_cell": "Table of Contents",
   "title_sidebar": "Contents",
   "toc_cell": false,
   "toc_position": {},
   "toc_section_display": true,
   "toc_window_display": false
  }
 },
 "nbformat": 4,
 "nbformat_minor": 2
}
